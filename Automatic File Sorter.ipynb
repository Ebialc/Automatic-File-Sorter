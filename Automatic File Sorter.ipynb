{
 "cells": [
  {
   "cell_type": "code",
   "execution_count": 37,
   "metadata": {},
   "outputs": [],
   "source": [
    "import os, shutil"
   ]
  },
  {
   "cell_type": "code",
   "execution_count": 46,
   "metadata": {},
   "outputs": [],
   "source": [
    "path = r\"D:/Downloads/\""
   ]
  },
  {
   "cell_type": "code",
   "execution_count": 47,
   "metadata": {},
   "outputs": [],
   "source": [
    "file_name = os.listdir(path)"
   ]
  },
  {
   "cell_type": "code",
   "execution_count": 48,
   "metadata": {},
   "outputs": [],
   "source": [
    "folder_names = ['Executable files',\n",
    "                'Image files', \n",
    "                'PDF files',\n",
    "                'Zip files',\n",
    "                'Media files',\n",
    "                'Word document files',\n",
    "                'Powerpoint files',\n",
    "                'Excel files',\n",
    "                'Rar files',\n",
    "                'Pkg files'\n",
    "                ]\n",
    "\n",
    "for loop in range(0,10):\n",
    "    if not os.path.exists(path + folder_names[loop]):\n",
    "        os.makedirs(path + folder_names[loop])"
   ]
  },
  {
   "cell_type": "code",
   "execution_count": 49,
   "metadata": {},
   "outputs": [],
   "source": [
    "for file in file_name:\n",
    "    if \".jpg\" in file and not os.path.exists(path + \"Image files/\" + file):\n",
    "        shutil.move(path + file, path + \"Image files/\" + file)\n",
    "    elif \".png\" in file and not os.path.exists(path + \"Image files/\" + file):\n",
    "        shutil.move(path + file, path + \"Image files/\" + file)\n",
    "    elif \".pdf\" in file and not os.path.exists(path + \"Pdf files/\" + file):        \n",
    "        shutil.move(path + file, path + \"Pdf files/\" + file)    \n",
    "    elif \".epub\" in file and not os.path.exists(path + \"Pdf files/\" + file):        \n",
    "        shutil.move(path + file, path + \"Pdf files/\" + file)\n",
    "    elif \".exe\" in file and not os.path.exists(path + \"Executable files/\" + file):        \n",
    "        shutil.move(path + file, path + \"Executable files/\" + file)\n",
    "    elif \".zip\" in file and not os.path.exists(path + \"Zip files/\" + file):        \n",
    "        shutil.move(path + file, path + \"Zip files/\" + file)\n",
    "    elif \".doc\" in file and not os.path.exists(path + \"Word document files/\" + file):        \n",
    "        shutil.move(path + file, path + \"Word document files/\" + file)\n",
    "    elif \".docx\" in file and not os.path.exists(path + \"Word document files/\" + file):        \n",
    "        shutil.move(path + file, path + \"Word document files/\" + file)\n",
    "    elif \".ppt\" in file and not os.path.exists(path + \"Powerpoint files/\" + file):        \n",
    "        shutil.move(path + file, path + \"Powerpoint files/\" + file)\n",
    "    elif \".pptx\" in file and not os.path.exists(path + \"Powerpoint files/\" + file):        \n",
    "        shutil.move(path + file, path + \"Powerpoint files/\" + file)\n",
    "    elif \".xlsx\" in file and not os.path.exists(path + \"Excel files/\" + file):        \n",
    "        shutil.move(path + file, path + \"Excel files/\" + file)\n",
    "    elif \".mp4\" in file and not os.path.exists(path + \"Media files/\" + file):        \n",
    "        shutil.move(path + file, path + \"Media files/\" + file)      \n",
    "    elif \".mov\" in file and not os.path.exists(path + \"Media files/\" + file):        \n",
    "        shutil.move(path + file, path + \"Media files/\" + file)      \n",
    "    elif \".mp3\" in file and not os.path.exists(path + \"Media files/\" + file):        \n",
    "        shutil.move(path + file, path + \"Media files/\" + file)   \n",
    "    elif \".pkg\" in file and not os.path.exists(path + \"Pkg files/\" + file):        \n",
    "        shutil.move(path + file, path + \"Pkg files/\" + file)  \n",
    "    elif \".rar\" in file and not os.path.exists(path + \"Rar files/\" + file):        \n",
    "        shutil.move(path + file, path + \"Rar files/\" + file)       "
   ]
  }
 ],
 "metadata": {
  "kernelspec": {
   "display_name": "Python 3",
   "language": "python",
   "name": "python3"
  },
  "language_info": {
   "codemirror_mode": {
    "name": "ipython",
    "version": 3
   },
   "file_extension": ".py",
   "mimetype": "text/x-python",
   "name": "python",
   "nbconvert_exporter": "python",
   "pygments_lexer": "ipython3",
   "version": "3.9.13"
  },
  "orig_nbformat": 4
 },
 "nbformat": 4,
 "nbformat_minor": 2
}
